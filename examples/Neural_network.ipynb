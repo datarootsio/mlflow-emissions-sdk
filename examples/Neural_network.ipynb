{
 "cells": [
  {
   "cell_type": "code",
   "execution_count": 1,
   "metadata": {},
   "outputs": [],
   "source": [
    "import tensorflow as tf\n",
    "from codecarbon import track_emissions\n",
    "import sys\n",
    "sys.path.insert(0, \"../\")\n",
    "from mlflow_emissions_sdk.experiment_tracking_training import EmissionsTrackerMlflow\n"
   ]
  },
  {
   "cell_type": "code",
   "execution_count": 2,
   "metadata": {},
   "outputs": [
    {
     "name": "stderr",
     "output_type": "stream",
     "text": [
      "[codecarbon INFO @ 14:13:28] [setup] RAM Tracking...\n",
      "[codecarbon INFO @ 14:13:28] [setup] GPU Tracking...\n",
      "[codecarbon INFO @ 14:13:28] No GPU found.\n",
      "[codecarbon INFO @ 14:13:28] [setup] CPU Tracking...\n",
      "[codecarbon WARNING @ 14:13:28] No CPU tracking mode found. Falling back on CPU constant mode.\n",
      "[codecarbon WARNING @ 14:13:28] We saw that you have a Apple M2 Pro but we don't know it. Please contact us.\n",
      "[codecarbon INFO @ 14:13:28] CPU Model on constant consumption mode: Apple M2 Pro\n",
      "[codecarbon INFO @ 14:13:28] >>> Tracker's metadata:\n",
      "[codecarbon INFO @ 14:13:28]   Platform system: macOS-14.0-arm64-arm-64bit\n",
      "[codecarbon INFO @ 14:13:28]   Python version: 3.11.6\n",
      "[codecarbon INFO @ 14:13:28]   CodeCarbon version: 2.3.1\n",
      "[codecarbon INFO @ 14:13:28]   Available RAM : 16.000 GB\n",
      "[codecarbon INFO @ 14:13:28]   CPU count: 10\n",
      "[codecarbon INFO @ 14:13:28]   CPU model: Apple M2 Pro\n",
      "[codecarbon INFO @ 14:13:28]   GPU count: None\n",
      "[codecarbon INFO @ 14:13:28]   GPU model: None\n",
      "2023/10/26 14:13:31 WARNING mlflow.utils.autologging_utils: You are using an unsupported version of tensorflow. If you encounter errors during autologging, try upgrading / downgrading tensorflow to a supported version, or try upgrading MLflow.\n"
     ]
    },
    {
     "name": "stdout",
     "output_type": "stream",
     "text": [
      "Epoch 1/10\n",
      "   1/1875 [..............................] - ETA: 6:44 - loss: 2.2467 - accuracy: 0.1875WARNING:tensorflow:Callback method `on_train_batch_end` is slow compared to the batch time (batch time: 0.0007s vs `on_train_batch_end` time: 0.0038s). Check your callbacks.\n",
      "1875/1875 [==============================] - 2s 718us/step - loss: 0.2937 - accuracy: 0.9142\n",
      "Epoch 2/10\n",
      "1875/1875 [==============================] - 1s 720us/step - loss: 0.1408 - accuracy: 0.9585\n",
      "Epoch 3/10\n",
      "1875/1875 [==============================] - 1s 708us/step - loss: 0.1044 - accuracy: 0.9683\n",
      "Epoch 4/10\n",
      "1875/1875 [==============================] - 1s 741us/step - loss: 0.0867 - accuracy: 0.9728\n",
      "Epoch 5/10\n",
      "1875/1875 [==============================] - 1s 752us/step - loss: 0.0762 - accuracy: 0.9757\n",
      "Epoch 6/10\n",
      "1875/1875 [==============================] - 1s 675us/step - loss: 0.0654 - accuracy: 0.9790\n",
      "Epoch 7/10\n",
      "1875/1875 [==============================] - 1s 697us/step - loss: 0.0581 - accuracy: 0.9811\n",
      "Epoch 8/10\n",
      "1875/1875 [==============================] - 1s 715us/step - loss: 0.0517 - accuracy: 0.9832\n",
      "Epoch 9/10\n",
      "1875/1875 [==============================] - 1s 746us/step - loss: 0.0487 - accuracy: 0.9841\n",
      "Epoch 10/10\n",
      "1875/1875 [==============================] - 1s 721us/step - loss: 0.0428 - accuracy: 0.9859\n",
      "1/1 [==============================] - 0s 33ms/step\n",
      "INFO:tensorflow:Assets written to: /var/folders/cr/fjzh9j6518vbwxjz621n0s7r0000gn/T/tmpytsmfyat/model/data/model/assets\n"
     ]
    },
    {
     "name": "stderr",
     "output_type": "stream",
     "text": [
      "INFO:tensorflow:Assets written to: /var/folders/cr/fjzh9j6518vbwxjz621n0s7r0000gn/T/tmpytsmfyat/model/data/model/assets\n",
      "[codecarbon INFO @ 14:13:46] Energy consumed for RAM : 0.000025 kWh. RAM Power : 6.0 W\n",
      "[codecarbon INFO @ 14:13:46] Energy consumed for all CPUs : 0.000177 kWh. Total CPU Power : 42.5 W\n",
      "[codecarbon INFO @ 14:13:46] 0.000202 kWh of electricity used since the beginning.\n",
      "2023/10/26 14:13:50 WARNING mlflow.utils.autologging_utils: MLflow autologging encountered a warning: \"/Users/alial-gburi/rootsacademy/acad-proj/datar-mlflow-emissions/mlflow-emissions-sdk/venv/lib/python3.11/site-packages/_distutils_hack/__init__.py:33: UserWarning: Setuptools is replacing distutils.\"\n",
      "[codecarbon INFO @ 14:13:50] Energy consumed for RAM : 0.000031 kWh. RAM Power : 6.0 W\n",
      "[codecarbon INFO @ 14:13:50] Energy consumed for all CPUs : 0.000216 kWh. Total CPU Power : 42.5 W\n",
      "[codecarbon INFO @ 14:13:50] 0.000247 kWh of electricity used since the beginning.\n"
     ]
    },
    {
     "name": "stdout",
     "output_type": "stream",
     "text": [
      "313/313 [==============================] - 0s 406us/step - loss: 0.0785 - accuracy: 0.9786\n"
     ]
    }
   ],
   "source": [
    "mnist = tf.keras.datasets.mnist\n",
    "(x_train, y_train), (x_test, y_test) = mnist.load_data()\n",
    "x_train, x_test = x_train / 255.0, x_test / 255.0\n",
    "model = tf.keras.models.Sequential(\n",
    "    [\n",
    "        tf.keras.layers.Flatten(input_shape=(28, 28)),\n",
    "        tf.keras.layers.Dense(128, activation=\"relu\"),\n",
    "        tf.keras.layers.Dropout(0.2),\n",
    "        tf.keras.layers.Dense(10),\n",
    "    ]\n",
    ")\n",
    "\n",
    "tracker_info = {\n",
    "\"tracking_uri\": \"http://127.0.0.1:5000\",\n",
    "\"experiment_name\": \"keras_test\",\n",
    "\"run_name\": \"keras_run\",\n",
    "\"flavor\": \"keras\"\n",
    "}\n",
    "\n",
    "loss_fn = tf.keras.losses.SparseCategoricalCrossentropy(from_logits=True)\n",
    "\n",
    "model.compile(optimizer=\"adam\", loss=loss_fn, metrics=[\"accuracy\"])\n",
    "\n",
    "runner = EmissionsTrackerMlflow()\n",
    "runner.read_params(tracker_info)\n",
    "runner.start_training_job()\n",
    "\n",
    "model.fit(x_train, y_train, epochs=10)\n",
    "\n",
    "runner.end_training_job()\n",
    "runner.accuracy_per_emission(model, x_test, y_test)\n"
   ]
  }
 ],
 "metadata": {
  "kernelspec": {
   "display_name": "Python 3",
   "language": "python",
   "name": "python3"
  },
  "language_info": {
   "codemirror_mode": {
    "name": "ipython",
    "version": 3
   },
   "file_extension": ".py",
   "mimetype": "text/x-python",
   "name": "python",
   "nbconvert_exporter": "python",
   "pygments_lexer": "ipython3",
   "version": "3.11.6"
  }
 },
 "nbformat": 4,
 "nbformat_minor": 2
}
