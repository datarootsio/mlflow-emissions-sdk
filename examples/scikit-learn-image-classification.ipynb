{
 "cells": [
  {
   "cell_type": "code",
   "execution_count": 1,
   "metadata": {},
   "outputs": [],
   "source": [
    "from sklearn.datasets import load_digits\n",
    "digits = load_digits()"
   ]
  },
  {
   "cell_type": "code",
   "execution_count": 2,
   "metadata": {},
   "outputs": [
    {
     "name": "stdout",
     "output_type": "stream",
     "text": [
      "Image Data Shape (1797, 64)\n",
      "Label Data Shape (1797,)\n"
     ]
    }
   ],
   "source": [
    "# Print to show there are 1797 images (8 by 8 images for a dimensionality of 64)\n",
    "print('Image Data Shape' , digits.data.shape)\n",
    "# Print to show there are 1797 labels (integers from 0–9)\n",
    "print(\"Label Data Shape\", digits.target.shape)"
   ]
  },
  {
   "cell_type": "code",
   "execution_count": 3,
   "metadata": {},
   "outputs": [
    {
     "data": {
      "image/png": "[encoded data removed]",
      "text/plain": [
       "<Figure size 2000x400 with 5 Axes>"
      ]
     },
     "metadata": {},
     "output_type": "display_data"
    }
   ],
   "source": [
    "import numpy as np \n",
    "import matplotlib.pyplot as plt\n",
    "plt.figure(figsize=(20,4))\n",
    "for index, (image, label) in enumerate(zip(digits.data[0:5], digits.target[0:5])):\n",
    " plt.subplot(1, 5, index + 1)\n",
    " plt.imshow(np.reshape(image, (8,8)), cmap=plt.cm.gray)\n",
    " plt.title('Training: %i\\n' % label, fontsize = 20)"
   ]
  },
  {
   "cell_type": "code",
   "execution_count": 4,
   "metadata": {},
   "outputs": [],
   "source": [
    "from sklearn.model_selection import train_test_split\n",
    "x_train, x_test, y_train, y_test = train_test_split(digits.data, digits.target, test_size=0.25, random_state=0)"
   ]
  },
  {
   "cell_type": "code",
   "execution_count": 5,
   "metadata": {},
   "outputs": [],
   "source": [
    "from sklearn.linear_model import LogisticRegression\n",
    "logisticRegr = LogisticRegression()\n"
   ]
  },
  {
   "cell_type": "code",
   "execution_count": 6,
   "metadata": {},
   "outputs": [
    {
     "name": "stderr",
     "output_type": "stream",
     "text": [
      "[codecarbon INFO @ 16:13:26] [setup] RAM Tracking...\n",
      "[codecarbon INFO @ 16:13:26] [setup] GPU Tracking...\n",
      "[codecarbon INFO @ 16:13:26] No GPU found.\n",
      "[codecarbon INFO @ 16:13:26] [setup] CPU Tracking...\n",
      "[codecarbon WARNING @ 16:13:26] No CPU tracking mode found. Falling back on CPU constant mode.\n",
      "[codecarbon WARNING @ 16:13:26] We saw that you have a Apple M2 Pro but we don't know it. Please contact us.\n",
      "[codecarbon INFO @ 16:13:26] CPU Model on constant consumption mode: Apple M2 Pro\n",
      "[codecarbon INFO @ 16:13:26] >>> Tracker's metadata:\n",
      "[codecarbon INFO @ 16:13:26]   Platform system: macOS-14.0-arm64-arm-64bit\n",
      "[codecarbon INFO @ 16:13:26]   Python version: 3.11.6\n",
      "[codecarbon INFO @ 16:13:26]   CodeCarbon version: 2.3.1\n",
      "[codecarbon INFO @ 16:13:26]   Available RAM : 16.000 GB\n",
      "[codecarbon INFO @ 16:13:26]   CPU count: 10\n",
      "[codecarbon INFO @ 16:13:26]   CPU model: Apple M2 Pro\n",
      "[codecarbon INFO @ 16:13:26]   GPU count: None\n",
      "[codecarbon INFO @ 16:13:26]   GPU model: None\n",
      "2023/10/26 16:13:29 WARNING mlflow.utils.autologging_utils: You are using an unsupported version of sklearn. If you encounter errors during autologging, try upgrading / downgrading sklearn to a supported version, or try upgrading MLflow.\n",
      "/Users/alial-gburi/rootsacademy/acad-proj/datar-mlflow-emissions/mlflow-emissions-sdk/venv/lib/python3.11/site-packages/sklearn/linear_model/_logistic.py:460: ConvergenceWarning: lbfgs failed to converge (status=1):\n",
      "STOP: TOTAL NO. of ITERATIONS REACHED LIMIT.\n",
      "\n",
      "Increase the number of iterations (max_iter) or scale the data as shown in:\n",
      "    https://scikit-learn.org/stable/modules/preprocessing.html\n",
      "Please also refer to the documentation for alternative solver options:\n",
      "    https://scikit-learn.org/stable/modules/linear_model.html#logistic-regression\n",
      "  n_iter_i = _check_optimize_result(\n",
      "2023/10/26 16:13:31 WARNING mlflow.utils.autologging_utils: MLflow autologging encountered a warning: \"/Users/alial-gburi/rootsacademy/acad-proj/datar-mlflow-emissions/mlflow-emissions-sdk/venv/lib/python3.11/site-packages/_distutils_hack/__init__.py:33: UserWarning: Setuptools is replacing distutils.\"\n",
      "[codecarbon INFO @ 16:13:31] Energy consumed for RAM : 0.000004 kWh. RAM Power : 6.0 W\n",
      "[codecarbon INFO @ 16:13:31] Energy consumed for all CPUs : 0.000025 kWh. Total CPU Power : 42.5 W\n",
      "[codecarbon INFO @ 16:13:31] 0.000028 kWh of electricity used since the beginning.\n"
     ]
    }
   ],
   "source": [
    "import sys\n",
    "\n",
    "sys.path.append('../')\n",
    "from mlflow_emissions_sdk.experiment_tracking_training import EmissionsTrackerMlflow\n",
    "\n",
    "tracker_info = {\n",
    "    \"tracking_uri\" : \"http://127.0.0.1:5000\",\n",
    "    \"experiment_name\" : \"sklearn_exp\",\n",
    "    \"run_name\" : \"LogisticRegression\",\n",
    "    \"flavor\" : 'sklearn'\n",
    "}\n",
    "\n",
    "runner = EmissionsTrackerMlflow()\n",
    "runner.read_params(tracker_info)\n",
    "runner.start_training_job()\n",
    "\n",
    "logisticRegr.fit(x_train, y_train)\n",
    "\n",
    "runner.end_training_job()\n",
    "runner.accuracy_per_emission(logisticRegr, x_test, y_test)\n"
   ]
  }
 ],
 "metadata": {
  "kernelspec": {
   "display_name": "venv",
   "language": "python",
   "name": "python3"
  },
  "language_info": {
   "codemirror_mode": {
    "name": "ipython",
    "version": 3
   },
   "file_extension": ".py",
   "mimetype": "text/x-python",
   "name": "python",
   "nbconvert_exporter": "python",
   "pygments_lexer": "ipython3",
   "version": "3.11.6"
  }
 },
 "nbformat": 4,
 "nbformat_minor": 2
}
